{
 "cells": [
  {
   "cell_type": "code",
   "execution_count": null,
   "id": "fe1544e3",
   "metadata": {},
   "outputs": [],
   "source": [
    "class Sales(Employee):\n",
    "    def __init__(self, first, last, phone_num, salary):\n",
    "        super().__init__(phone_num)\n",
    "    \n",
    "    def follow_up_email(self, cust_first, cust_last, email):\n",
    "        pass\n",
    "        \n",
    "class Development(Employee):\n",
    "    \n",
    "    def __init__(self):\n",
    "        pass\n",
    "    def code(self):\n",
    "        print(f\"{self.first} {self.last} is writing code.\")\n",
    "        \n",
    "sales_emp = Sales('Paul', 'Smith', '333-333-3333', 50000)\n",
    "\n"
   ]
  }
 ],
 "metadata": {
  "kernelspec": {
   "display_name": "Python 3 (ipykernel)",
   "language": "python",
   "name": "python3"
  },
  "language_info": {
   "codemirror_mode": {
    "name": "ipython",
    "version": 3
   },
   "file_extension": ".py",
   "mimetype": "text/x-python",
   "name": "python",
   "nbconvert_exporter": "python",
   "pygments_lexer": "ipython3",
   "version": "3.9.12"
  }
 },
 "nbformat": 4,
 "nbformat_minor": 5
}
