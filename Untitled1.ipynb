{
 "cells": [
  {
   "cell_type": "code",
   "execution_count": null,
   "id": "aa2b591a",
   "metadata": {},
   "outputs": [],
   "source": [
    "# def __init__ (self):\n",
    "#     super().__init__(self, phone_num)\n",
    "    \n",
    "# emp_1.send_email()\n",
    "\n",
    "# def send_email(self):\n",
    "#     print()"
   ]
  }
 ],
 "metadata": {
  "kernelspec": {
   "display_name": "Python 3 (ipykernel)",
   "language": "python",
   "name": "python3"
  },
  "language_info": {
   "codemirror_mode": {
    "name": "ipython",
    "version": 3
   },
   "file_extension": ".py",
   "mimetype": "text/x-python",
   "name": "python",
   "nbconvert_exporter": "python",
   "pygments_lexer": "ipython3",
   "version": "3.9.12"
  }
 },
 "nbformat": 4,
 "nbformat_minor": 5
}
