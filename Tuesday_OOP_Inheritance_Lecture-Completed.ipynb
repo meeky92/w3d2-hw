{
 "cells": [
  {
   "cell_type": "markdown",
   "metadata": {},
   "source": [
    "# Object-Oriented-Programming (OOP)"
   ]
  },
  {
   "cell_type": "markdown",
   "metadata": {},
   "source": [
    "## Tasks Today:\n",
    "\n",
    "   \n",
    "1) <b>Dunder Methods</b> <br>\n",
    " &nbsp;&nbsp;&nbsp;&nbsp; a) The \\__str\\__() Methodo <br>\n",
    " &nbsp;&nbsp;&nbsp;&nbsp; b) The \\__repr\\__() Method <br>\n",
    " &nbsp;&nbsp;&nbsp;&nbsp; c) In-Class Exercise #1 - Create a class Animal that displays the species and animal name when printed <br>  \n",
    "2) <b>Inheritance</b> <br>\n",
    " &nbsp;&nbsp;&nbsp;&nbsp; a) Syntax for Inheriting from a Parent Class <br>\n",
    " &nbsp;&nbsp;&nbsp;&nbsp; b) The \\__init\\__() Method for a Child Class (super()) <br>\n",
    " &nbsp;&nbsp;&nbsp;&nbsp; c) Defining Attributes and Methods for the Child Class <br>\n",
    " &nbsp;&nbsp;&nbsp;&nbsp; d) Method Overriding <br>\n",
    " &nbsp;&nbsp;&nbsp;&nbsp; e) In-Class Exercise #2 - Create a class 'Ford' that inherits from 'Car' class and initialize it as a Blue Ford Explorer with 4 wheels using the super() method <br>\n",
    "3) <b>Modules</b> <br>\n",
    " &nbsp;&nbsp;&nbsp;&nbsp; a) Importing Modules<br>\n",
    " &nbsp;&nbsp;&nbsp;&nbsp; b) Importing from modules <br>\n",
    " &nbsp;&nbsp;&nbsp;&nbsp; c) Aliasing <br>\n",
    " &nbsp;&nbsp;&nbsp;&nbsp; d) Creating Modules <br>\n",
    " &nbsp;&nbsp;&nbsp;&nbsp; e) In-Class Exercise #2 - Create a class 'Ford' <br>\n",
    "4) <b>Exercises</b> <br>\n",
    " &nbsp;&nbsp;&nbsp;&nbsp; a) Exercise #1 - Turn the shopping cart program from yesterday into an object-oriented program <br>"
   ]
  },
  {
   "cell_type": "markdown",
   "metadata": {},
   "source": [
    "### Warm Up"
   ]
  },
  {
   "cell_type": "markdown",
   "metadata": {},
   "source": [
    "Create two classes: one for a user that includes username, email, and password. Another for posts that has a title, body, and author. The author should be an instance of user. Then create an instance of User and Post."
   ]
  },
  {
   "cell_type": "code",
   "execution_count": 1,
   "metadata": {},
   "outputs": [
    {
     "name": "stdout",
     "output_type": "stream",
     "text": [
      "{'username': 'Austen', 'email': 'austen@gmail.com', 'password': 123456}\n",
      "{'title': 'Python Rocks!', 'body': 'Python is a cool language', 'author': <__main__.User object at 0x7fd609ed01f0>}\n"
     ]
    },
    {
     "data": {
      "text/plain": [
       "'austen@gmail.com'"
      ]
     },
     "execution_count": 1,
     "metadata": {},
     "output_type": "execute_result"
    }
   ],
   "source": [
    "class User:\n",
    "    def __init__(self, username, email, password):\n",
    "        self.username = username\n",
    "        self.email = email\n",
    "        self.password = password\n",
    "    \n",
    "class Post:\n",
    "    def __init__(self, title, body, author):\n",
    "        self.title = title\n",
    "        self.body = body\n",
    "        self.author = author\n",
    "    \n",
    "user1 = User(\"Austen\", \"austen@gmail.com\", 123456)\n",
    "print(user1.__dict__)\n",
    "\n",
    "post1 = Post('Python Rocks!', 'Python is a cool language', user1)\n",
    "print(post1.__dict__)\n",
    "\n",
    "post1.author.email"
   ]
  },
  {
   "cell_type": "markdown",
   "metadata": {},
   "source": [
    "## Dunder Methods"
   ]
  },
  {
   "cell_type": "markdown",
   "metadata": {},
   "source": [
    "#### \\__str\\__()"
   ]
  },
  {
   "cell_type": "code",
   "execution_count": 2,
   "metadata": {},
   "outputs": [
    {
     "name": "stdout",
     "output_type": "stream",
     "text": [
      "red Toyota Camry\n",
      "green Ford Focus\n"
     ]
    }
   ],
   "source": [
    "# __str__ is the method that is invoked when you call print on your object, only takes in one method of self\n",
    "# expects you to return a string\n",
    "class Car:\n",
    "    def __init__(self, color, make, model):\n",
    "        self.color = color\n",
    "        self.make = make\n",
    "        self.model = model\n",
    "        \n",
    "    def __str__(self):\n",
    "        return f'{self.color} {self.make} {self.model}'\n",
    "    \n",
    "car1 = Car('red', 'Toyota', 'Camry')\n",
    "car2 = Car('green', 'Ford', 'Focus')\n",
    "\n",
    "print(car1)\n",
    "print(car2)"
   ]
  },
  {
   "cell_type": "markdown",
   "metadata": {},
   "source": [
    "#### \\__repr\\__()"
   ]
  },
  {
   "cell_type": "code",
   "execution_count": 3,
   "metadata": {
    "scrolled": true
   },
   "outputs": [
    {
     "name": "stdout",
     "output_type": "stream",
     "text": [
      "red Toyota Camry\n",
      "green Ford Focus\n"
     ]
    }
   ],
   "source": [
    "# developer friendly way of viewing our objects vs user-friendly\n",
    "# built-in print function will user __repr__ if __str__ is not defined\n",
    "\n",
    "class Car:\n",
    "    def __init__(self, car_id, color, make, model):\n",
    "        self.id = car_id\n",
    "        self.color = color\n",
    "        self.make = make\n",
    "        self.model = model\n",
    "        \n",
    "    def __str__(self):\n",
    "        return f'{self.color} {self.make} {self.model}'\n",
    "    \n",
    "    def __repr__(self):\n",
    "        return f'<Car {self.id} | {self.make} {self.model}>'\n",
    "    \n",
    "car1 = Car(1, 'red', 'Toyota', 'Camry')\n",
    "car2 = Car(2, 'green', 'Ford', 'Focus')\n",
    "\n",
    "print(car1)\n",
    "print(car2)"
   ]
  },
  {
   "cell_type": "code",
   "execution_count": 4,
   "metadata": {},
   "outputs": [
    {
     "data": {
      "text/plain": [
       "<Car 1 | Toyota Camry>"
      ]
     },
     "execution_count": 4,
     "metadata": {},
     "output_type": "execute_result"
    }
   ],
   "source": [
    "car1"
   ]
  },
  {
   "cell_type": "code",
   "execution_count": 5,
   "metadata": {},
   "outputs": [
    {
     "data": {
      "text/plain": [
       "<Car 2 | Ford Focus>"
      ]
     },
     "execution_count": 5,
     "metadata": {},
     "output_type": "execute_result"
    }
   ],
   "source": [
    "car2"
   ]
  },
  {
   "cell_type": "code",
   "execution_count": 6,
   "metadata": {},
   "outputs": [
    {
     "name": "stdout",
     "output_type": "stream",
     "text": [
      "[<Car 1 | Toyota Camry>, <Car 2 | Ford Focus>]\n"
     ]
    }
   ],
   "source": [
    "cars = [car1, car2]\n",
    "print(cars)"
   ]
  },
  {
   "cell_type": "markdown",
   "metadata": {},
   "source": [
    "#### \\__lt\\__(), \\__lte\\__(), \\__eq\\__(), etc"
   ]
  },
  {
   "cell_type": "code",
   "execution_count": 7,
   "metadata": {},
   "outputs": [
    {
     "name": "stdout",
     "output_type": "stream",
     "text": [
      "Markers are cheaper than the eraser\n"
     ]
    }
   ],
   "source": [
    "class Item:\n",
    "    def __init__(self, name, price, quantity):\n",
    "        self.name = name\n",
    "        self.price = price\n",
    "        self.quantity = quantity\n",
    "        \n",
    "    def __str__(self):\n",
    "        return f\"{self.name}: {self.price} x {self.quantity}\"\n",
    "    \n",
    "    def __repr__(self):\n",
    "        return f\"<Item | {self.name}>\"\n",
    "    \n",
    "    def __lt__(self, other_item): # less than\n",
    "        return self.price * self.quantity < other_item.price *other_item.quantity\n",
    "    \n",
    "    def __le__(self, other_item): # less than or equal\n",
    "        return self.price <= other_item.price\n",
    "    \n",
    "    def __eq__(self, other_item):\n",
    "        return self.price == other_item.price\n",
    "    \n",
    "    def __add__(self, value_to_add):\n",
    "        self.quantity += value_to_add\n",
    "        return self\n",
    "    \n",
    "    def __sub__(self, value_to_subtract):\n",
    "        self.quantity -= value_to_subtract\n",
    "        return self\n",
    "    \n",
    "item1 = Item('Marker', 1.49, 2)\n",
    "item2 = Item('Eraser', 1.49, 1)\n",
    "\n",
    "if item1 <= item2:\n",
    "    print('Markers are cheaper than the eraser')"
   ]
  },
  {
   "cell_type": "code",
   "execution_count": 8,
   "metadata": {},
   "outputs": [
    {
     "name": "stdout",
     "output_type": "stream",
     "text": [
      "Marker: 1.49 x 2\n",
      "Marker: 1.49 x 5\n"
     ]
    }
   ],
   "source": [
    "print(item1)\n",
    "item1 += 3\n",
    "print(item1)"
   ]
  },
  {
   "cell_type": "code",
   "execution_count": 9,
   "metadata": {},
   "outputs": [
    {
     "name": "stdout",
     "output_type": "stream",
     "text": [
      "Marker: 1.49 x 5\n",
      "Marker: 1.49 x 3\n"
     ]
    }
   ],
   "source": [
    "print(item1)\n",
    "item1 -= 2\n",
    "print(item1)"
   ]
  },
  {
   "cell_type": "code",
   "execution_count": 10,
   "metadata": {},
   "outputs": [
    {
     "name": "stdout",
     "output_type": "stream",
     "text": [
      "2\n"
     ]
    },
    {
     "data": {
      "text/plain": [
       "True"
      ]
     },
     "execution_count": 10,
     "metadata": {},
     "output_type": "execute_result"
    }
   ],
   "source": [
    "class Cart:\n",
    "    def __init__(self):\n",
    "        self.cart = []\n",
    "        \n",
    "    def add_to_cart(self, item):\n",
    "#         if item\n",
    "        self.cart.append(item)\n",
    "        \n",
    "    def __len__(self):\n",
    "        return len(self.cart)\n",
    "    \n",
    "    def __contains__(self, item_name):\n",
    "        for item in self.cart:\n",
    "            if item.name.lower() == item_name.lower():\n",
    "                return True\n",
    "        return False\n",
    "    \n",
    "\n",
    "my_cart = Cart()\n",
    "\n",
    "my_cart.add_to_cart(item1)\n",
    "my_cart.add_to_cart(item2)\n",
    "\n",
    "print(len(my_cart))\n",
    "\n",
    "\n",
    "'MARKER' in my_cart"
   ]
  },
  {
   "cell_type": "markdown",
   "metadata": {},
   "source": [
    "#### In-class Exercise 1"
   ]
  },
  {
   "cell_type": "code",
   "execution_count": 11,
   "metadata": {},
   "outputs": [
    {
     "name": "stdout",
     "output_type": "stream",
     "text": [
      "Buddy the dog.\n"
     ]
    },
    {
     "data": {
      "text/plain": [
       "< Animal | dog>"
      ]
     },
     "execution_count": 11,
     "metadata": {},
     "output_type": "execute_result"
    }
   ],
   "source": [
    "# Create a class Animal that displays the name and species when printed\n",
    "# __str__ and __repr__\n",
    "\n",
    "class Animal:\n",
    "    def __init__(self, name, species):\n",
    "        self.name = name\n",
    "        self.species = species\n",
    "\n",
    "    def __repr__(self):\n",
    "        return f\"< Animal | {self.species}>\"\n",
    "    \n",
    "    def __str__(self):\n",
    "        return f\"{self.name} the {self.species}.\"\n",
    "        \n",
    "my_animal = Animal('Buddy', 'dog')\n",
    "print(my_animal) # Buddy the dog\n",
    "my_animal"
   ]
  },
  {
   "cell_type": "markdown",
   "metadata": {},
   "source": [
    "## Inheritance <br>\n",
    "<p>You can create a child-parent relationship between two classes by using inheritance. What this allows you to do is have overriding methods, but also inherit traits from the parent class. Think of it as an actual parent and child, the child will inherit the parent's genes, as will the classes in OOP</p>"
   ]
  },
  {
   "cell_type": "markdown",
   "metadata": {},
   "source": [
    "##### Syntax for Inheriting from a Parent Class"
   ]
  },
  {
   "cell_type": "code",
   "execution_count": 12,
   "metadata": {},
   "outputs": [
    {
     "name": "stdout",
     "output_type": "stream",
     "text": [
      "Length: 10 x Width 15\n",
      "This is from the Rectangle Class\n",
      "150\n",
      "This is from the Rectangle Class\n",
      "50\n",
      "====================\n",
      "Length: 5 x Width 5\n",
      "This is from the Square Class\n",
      "25\n",
      "This is from the Rectangle Class\n",
      "20\n",
      "4\n"
     ]
    }
   ],
   "source": [
    "# Syntax: class Child(Parent):\n",
    "\n",
    "class Rectangle:\n",
    "    sides = 4\n",
    "    def __init__(self, length, width):\n",
    "        self.length = length\n",
    "        self.width = width\n",
    "        \n",
    "    def __str__(self):\n",
    "        return f\"Length: {self.length} x Width {self.width}\"\n",
    "        \n",
    "    def area(self):\n",
    "        print('This is from the Rectangle Class')\n",
    "        return self.length * self.width\n",
    "    \n",
    "    def perimeter(self):\n",
    "        print('This is from the Rectangle Class')\n",
    "        return 2*(self.length) + 2*(self.width)\n",
    "    \n",
    "class Square(Rectangle):\n",
    "\n",
    "    def area(self):\n",
    "        print('This is from the Square Class')\n",
    "        return self.length ** 2\n",
    "    \n",
    "my_rectangle = Rectangle(10, 15)\n",
    "\n",
    "print(my_rectangle)\n",
    "print(my_rectangle.area())\n",
    "print(my_rectangle.perimeter())\n",
    "print(\"=\"*20)\n",
    "my_square = Square(5,5)\n",
    "print(my_square)\n",
    "print(my_square.area())\n",
    "print(my_square.perimeter())\n",
    "print(my_square.sides)"
   ]
  },
  {
   "cell_type": "code",
   "execution_count": 13,
   "metadata": {},
   "outputs": [
    {
     "name": "stdout",
     "output_type": "stream",
     "text": [
      "Help on class Square in module __main__:\n",
      "\n",
      "class Square(Rectangle)\n",
      " |  Square(length, width)\n",
      " |  \n",
      " |  Method resolution order:\n",
      " |      Square\n",
      " |      Rectangle\n",
      " |      builtins.object\n",
      " |  \n",
      " |  Methods defined here:\n",
      " |  \n",
      " |  area(self)\n",
      " |  \n",
      " |  ----------------------------------------------------------------------\n",
      " |  Methods inherited from Rectangle:\n",
      " |  \n",
      " |  __init__(self, length, width)\n",
      " |      Initialize self.  See help(type(self)) for accurate signature.\n",
      " |  \n",
      " |  __str__(self)\n",
      " |      Return str(self).\n",
      " |  \n",
      " |  perimeter(self)\n",
      " |  \n",
      " |  ----------------------------------------------------------------------\n",
      " |  Data descriptors inherited from Rectangle:\n",
      " |  \n",
      " |  __dict__\n",
      " |      dictionary for instance variables (if defined)\n",
      " |  \n",
      " |  __weakref__\n",
      " |      list of weak references to the object (if defined)\n",
      " |  \n",
      " |  ----------------------------------------------------------------------\n",
      " |  Data and other attributes inherited from Rectangle:\n",
      " |  \n",
      " |  sides = 4\n",
      "\n"
     ]
    }
   ],
   "source": [
    "help(Square)"
   ]
  },
  {
   "cell_type": "markdown",
   "metadata": {},
   "source": [
    "##### The \\__init\\__() Method for a Child Class - super()"
   ]
  },
  {
   "cell_type": "code",
   "execution_count": 14,
   "metadata": {
    "scrolled": true
   },
   "outputs": [
    {
     "name": "stdout",
     "output_type": "stream",
     "text": [
      "Square __init__\n",
      "5\n",
      "7.0710678118654755\n"
     ]
    }
   ],
   "source": [
    "class Rectangle:\n",
    "    def __init__(self, length, width):\n",
    "        self.length = length\n",
    "        self.width = width\n",
    "\n",
    "    def area(self):\n",
    "        return self.length * self.width\n",
    "    \n",
    "    def perimeter(self):\n",
    "        return 2*(self.length) + 2*(self.width)\n",
    "    \n",
    "    \n",
    "class Square(Rectangle):\n",
    "#     def __init__(self, side):\n",
    "#         self.length = side\n",
    "#         self.width = side\n",
    "    def __init__(self, side):\n",
    "        super().__init__(side, side)\n",
    "        print('Square __init__')\n",
    "        self.hypotenuse = side * (2 **(1/2))\n",
    "        \n",
    "    def area(self):\n",
    "        return self.length ** 2\n",
    "    \n",
    "my_square = Square(5)\n",
    "print(my_square.length)\n",
    "print(my_square.hypotenuse)\n"
   ]
  },
  {
   "cell_type": "code",
   "execution_count": 15,
   "metadata": {},
   "outputs": [
    {
     "name": "stdout",
     "output_type": "stream",
     "text": [
      "Square __init__\n"
     ]
    }
   ],
   "source": [
    "my_square = Square(4)"
   ]
  },
  {
   "cell_type": "code",
   "execution_count": 16,
   "metadata": {
    "scrolled": true
   },
   "outputs": [
    {
     "data": {
      "text/plain": [
       "16"
      ]
     },
     "execution_count": 16,
     "metadata": {},
     "output_type": "execute_result"
    }
   ],
   "source": [
    "my_square.area()"
   ]
  },
  {
   "cell_type": "code",
   "execution_count": 17,
   "metadata": {},
   "outputs": [
    {
     "data": {
      "text/plain": [
       "16"
      ]
     },
     "execution_count": 17,
     "metadata": {},
     "output_type": "execute_result"
    }
   ],
   "source": [
    "my_square.perimeter()"
   ]
  },
  {
   "cell_type": "markdown",
   "metadata": {},
   "source": [
    "#### In-class Exercise 2"
   ]
  },
  {
   "cell_type": "markdown",
   "metadata": {},
   "source": [
    "Create a Car class that has a drive and fill up method, and then create a Ford class that inherits from the car class."
   ]
  },
  {
   "cell_type": "code",
   "execution_count": 18,
   "metadata": {},
   "outputs": [
    {
     "name": "stdout",
     "output_type": "stream",
     "text": [
      "Ford\n",
      "blue Ford Focus is driving\n",
      "Filling up blue Ford Focus\n"
     ]
    }
   ],
   "source": [
    "class Car:\n",
    "    def __init__(self, color, make, model):\n",
    "        self.color = color\n",
    "        self.make = make\n",
    "        self.model = model\n",
    "        \n",
    "    def __str__(self):\n",
    "        return f\"{self.color} {self.make} {self.model}\"\n",
    "    \n",
    "    def drive(self):\n",
    "        print(f\"{self} is driving\")\n",
    "        \n",
    "    def fill_up(self):\n",
    "        print(f\"Filling up {self}\")\n",
    "        \n",
    "\n",
    "class Ford(Car):\n",
    "    def __init__(self, color, model):\n",
    "        super().__init__(color, 'Ford', model)\n",
    "\n",
    "\n",
    "my_car = Ford('blue', 'Focus')\n",
    "\n",
    "print(my_car.make) # 'Ford'\n",
    "\n",
    "my_car.drive() # 'blue Ford Focus is driving'\n",
    "\n",
    "my_car.fill_up() # 'Filling up blue Ford Focus'\n"
   ]
  },
  {
   "cell_type": "markdown",
   "metadata": {},
   "source": [
    "## Modules"
   ]
  },
  {
   "cell_type": "markdown",
   "metadata": {},
   "source": [
    "##### Importing Entire Modules"
   ]
  },
  {
   "cell_type": "code",
   "execution_count": 19,
   "metadata": {},
   "outputs": [
    {
     "name": "stdout",
     "output_type": "stream",
     "text": [
      "<module 'math' from '/Users/eunicekim/opt/anaconda3/lib/python3.9/lib-dynload/math.cpython-39-darwin.so'>\n",
      "3.141592653589793\n",
      "120\n"
     ]
    },
    {
     "data": {
      "text/plain": [
       "6"
      ]
     },
     "execution_count": 19,
     "metadata": {},
     "output_type": "execute_result"
    }
   ],
   "source": [
    "# import name_of_module\n",
    "\n",
    "import math\n",
    "\n",
    "print(math)\n",
    "print(math.pi)\n",
    "\n",
    "print(math.factorial(5))\n",
    "math.factorial(3)"
   ]
  },
  {
   "cell_type": "code",
   "execution_count": 20,
   "metadata": {},
   "outputs": [
    {
     "name": "stdout",
     "output_type": "stream",
     "text": [
      "120\n",
      "3.141592653589793\n"
     ]
    }
   ],
   "source": [
    "five_factorial = math.factorial(5)\n",
    "print(five_factorial)\n",
    "\n",
    "print(math.pi)"
   ]
  },
  {
   "cell_type": "markdown",
   "metadata": {},
   "source": [
    "##### Importing Methods Only"
   ]
  },
  {
   "cell_type": "code",
   "execution_count": 21,
   "metadata": {},
   "outputs": [
    {
     "name": "stdout",
     "output_type": "stream",
     "text": [
      "<function median at 0x7fd5f81ce940>\n",
      "<function mean at 0x7fd5f81ce700>\n",
      "375.5\n",
      "233.5\n"
     ]
    }
   ],
   "source": [
    "# from module_name import class, function, constant, etc.\n",
    "\n",
    "from statistics import mean, median\n",
    "\n",
    "\n",
    "print(median)\n",
    "print(mean)\n",
    "\n",
    "my_list = [13, 6, 234, 1346, 233, 335, 23, 6, 1235, 324]\n",
    "\n",
    "print(mean(my_list))\n",
    "print(median(my_list))"
   ]
  },
  {
   "cell_type": "markdown",
   "metadata": {},
   "source": [
    "##### Using the 'as' Keyword"
   ]
  },
  {
   "cell_type": "code",
   "execution_count": 22,
   "metadata": {},
   "outputs": [
    {
     "name": "stdout",
     "output_type": "stream",
     "text": [
      "<bound method Random.randint of <random.Random object at 0x7fd601032c10>>\n"
     ]
    },
    {
     "data": {
      "text/plain": [
       "4"
      ]
     },
     "execution_count": 22,
     "metadata": {},
     "output_type": "execute_result"
    }
   ],
   "source": [
    "# import module as new_name\n",
    "# from module import function as f\n",
    "\n",
    "from random import randint as ri\n",
    "\n",
    "print(ri)\n",
    "ri(1, 100)"
   ]
  },
  {
   "cell_type": "code",
   "execution_count": 23,
   "metadata": {},
   "outputs": [
    {
     "name": "stdout",
     "output_type": "stream",
     "text": [
      "<module 'collections' from '/Users/eunicekim/opt/anaconda3/lib/python3.9/collections/__init__.py'>\n",
      "<class 'collections.Counter'>\n",
      "Counter({'l': 3, 's': 3, 'd': 3, 'k': 3, 'f': 2, 'j': 2, 'a': 1})\n"
     ]
    }
   ],
   "source": [
    "import collections as c\n",
    "\n",
    "print(c)\n",
    "print(c.Counter)\n",
    "\n",
    "# Counter is a class (capital C)\n",
    "# counts each object\n",
    "\n",
    "test = c.Counter('alsdkfdsklfjkldsj')\n",
    "print(test)\n",
    "\n"
   ]
  },
  {
   "cell_type": "code",
   "execution_count": 24,
   "metadata": {},
   "outputs": [
    {
     "name": "stdout",
     "output_type": "stream",
     "text": [
      "Hello this is the test module!\n",
      "Hello Eunice. How are you today? I hope you are well!\n",
      "Goodbye Eunice. It was a pleasure seeing you.\n",
      "<module 'test_module' from '/Users/eunicekim/Documents/Coding Temple/Week3/Day2/test_module.py'>\n"
     ]
    }
   ],
   "source": [
    "# Using VS Code\n",
    "import test_module\n",
    "\n",
    "print(test_module)"
   ]
  },
  {
   "cell_type": "code",
   "execution_count": 25,
   "metadata": {},
   "outputs": [
    {
     "name": "stdout",
     "output_type": "stream",
     "text": [
      "Hello Eunice. How are you today? I hope you are well!\n"
     ]
    }
   ],
   "source": [
    "test_module.greet('Eunice')\n"
   ]
  },
  {
   "cell_type": "code",
   "execution_count": 26,
   "metadata": {},
   "outputs": [
    {
     "name": "stdout",
     "output_type": "stream",
     "text": [
      "Goodbye Eunice. It was a pleasure seeing you.\n"
     ]
    }
   ],
   "source": [
    "test_module.leave('eunice')"
   ]
  },
  {
   "cell_type": "code",
   "execution_count": 27,
   "metadata": {},
   "outputs": [
    {
     "name": "stdout",
     "output_type": "stream",
     "text": [
      "Hello Taty. How are you today? I hope you are well!\n"
     ]
    }
   ],
   "source": [
    "from test_module import greet\n",
    "greet('Taty')"
   ]
  },
  {
   "cell_type": "code",
   "execution_count": 28,
   "metadata": {},
   "outputs": [
    {
     "name": "stdout",
     "output_type": "stream",
     "text": [
      "Goodbye Taty. It was a pleasure seeing you.\n"
     ]
    }
   ],
   "source": [
    "from test_module import leave as say_bye\n",
    "\n",
    "\n",
    "say_bye('Taty')"
   ]
  },
  {
   "cell_type": "code",
   "execution_count": 29,
   "metadata": {},
   "outputs": [
    {
     "name": "stdout",
     "output_type": "stream",
     "text": [
      "The __init__.py file is being run\n"
     ]
    }
   ],
   "source": [
    "# # Folder Modules\n",
    "import folder_module\n"
   ]
  },
  {
   "cell_type": "code",
   "execution_count": 30,
   "metadata": {},
   "outputs": [
    {
     "name": "stdout",
     "output_type": "stream",
     "text": [
      "<module 'folder_module' from '/Users/eunicekim/Documents/Coding Temple/Week3/Day2/folder_module/__init__.py'>\n"
     ]
    }
   ],
   "source": [
    "print(folder_module)"
   ]
  },
  {
   "cell_type": "code",
   "execution_count": 31,
   "metadata": {},
   "outputs": [
    {
     "data": {
      "text/plain": [
       "12"
      ]
     },
     "execution_count": 31,
     "metadata": {},
     "output_type": "execute_result"
    }
   ],
   "source": [
    "folder_module.add_nums(3, 9)"
   ]
  }
 ],
 "metadata": {
  "kernelspec": {
   "display_name": "Python 3 (ipykernel)",
   "language": "python",
   "name": "python3"
  },
  "language_info": {
   "codemirror_mode": {
    "name": "ipython",
    "version": 3
   },
   "file_extension": ".py",
   "mimetype": "text/x-python",
   "name": "python",
   "nbconvert_exporter": "python",
   "pygments_lexer": "ipython3",
   "version": "3.9.12"
  }
 },
 "nbformat": 4,
 "nbformat_minor": 2
}
